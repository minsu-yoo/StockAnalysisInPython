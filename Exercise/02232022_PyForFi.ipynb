{
 "cells": [
  {
   "cell_type": "code",
   "execution_count": 3,
   "id": "e53bf521",
   "metadata": {},
   "outputs": [],
   "source": [
    "FAANG = ['FB', 'AMZN', 'AAPL', 'NFLX', 'GOOGL']\n"
   ]
  },
  {
   "cell_type": "code",
   "execution_count": 4,
   "id": "02ad1ce2",
   "metadata": {},
   "outputs": [
    {
     "name": "stdout",
     "output_type": "stream",
     "text": [
      "1 FB\n",
      "2 AMZN\n",
      "3 AAPL\n",
      "4 NFLX\n",
      "5 GOOGL\n"
     ]
    }
   ],
   "source": [
    "for idx, symbol in enumerate(FAANG, 1):  #(FAANG,1)\n",
    "    print(idx, symbol)"
   ]
  },
  {
   "cell_type": "markdown",
   "id": "adec7df0",
   "metadata": {},
   "source": [
    "#(FAANG,1) 에서 1 은 첫번째 부터 시작한다는 것을 뜻한다. "
   ]
  },
  {
   "cell_type": "code",
   "execution_count": 6,
   "id": "1ad217ef",
   "metadata": {},
   "outputs": [
    {
     "name": "stdout",
     "output_type": "stream",
     "text": [
      "Exception occured : division by zero\n"
     ]
    }
   ],
   "source": [
    "try:\n",
    "    1/0\n",
    "    \n",
    "except Exception as e:\n",
    "    print('Exception occured :', str(e))\n",
    "    \n",
    "    "
   ]
  },
  {
   "cell_type": "code",
   "execution_count": 8,
   "id": "93a4dde3",
   "metadata": {},
   "outputs": [],
   "source": [
    "L = [[1,2],[3,4]]"
   ]
  },
  {
   "cell_type": "code",
   "execution_count": 9,
   "id": "fbc53a1d",
   "metadata": {},
   "outputs": [
    {
     "data": {
      "text/plain": [
       "[[1, 2], [3, 4]]"
      ]
     },
     "execution_count": 9,
     "metadata": {},
     "output_type": "execute_result"
    }
   ],
   "source": [
    "L\n"
   ]
  },
  {
   "cell_type": "code",
   "execution_count": 11,
   "id": "66d4e649",
   "metadata": {},
   "outputs": [
    {
     "data": {
      "text/plain": [
       "[[1, 2], [3, 4], [1, 2], [3, 4]]"
      ]
     },
     "execution_count": 11,
     "metadata": {},
     "output_type": "execute_result"
    }
   ],
   "source": [
    "L + L"
   ]
  },
  {
   "cell_type": "code",
   "execution_count": 12,
   "id": "0aa35ac7",
   "metadata": {},
   "outputs": [
    {
     "data": {
      "text/plain": [
       "[[1, 2], [3, 4], [1, 2], [3, 4], [1, 2], [3, 4]]"
      ]
     },
     "execution_count": 12,
     "metadata": {},
     "output_type": "execute_result"
    }
   ],
   "source": [
    "L*3"
   ]
  },
  {
   "cell_type": "code",
   "execution_count": 13,
   "id": "8798c0fc",
   "metadata": {},
   "outputs": [],
   "source": [
    "myList = 'Thoughts become things.'.split()"
   ]
  },
  {
   "cell_type": "code",
   "execution_count": 15,
   "id": "4330690f",
   "metadata": {},
   "outputs": [
    {
     "data": {
      "text/plain": [
       "['Thoughts', 'become', 'things.']"
      ]
     },
     "execution_count": 15,
     "metadata": {},
     "output_type": "execute_result"
    }
   ],
   "source": [
    "myList"
   ]
  },
  {
   "cell_type": "code",
   "execution_count": 20,
   "id": "8463f45e",
   "metadata": {},
   "outputs": [
    {
     "data": {
      "text/plain": [
       "'Thoughts become things.'"
      ]
     },
     "execution_count": 20,
     "metadata": {},
     "output_type": "execute_result"
    }
   ],
   "source": [
    "' '.join(myList)"
   ]
  },
  {
   "cell_type": "markdown",
   "id": "20e1da5f",
   "metadata": {},
   "source": [
    "join 을 쓰기 전에 꼭 ' ' 를 써야하는 것이 흥미롭다. "
   ]
  },
  {
   "cell_type": "code",
   "execution_count": 21,
   "id": "d5e402df",
   "metadata": {},
   "outputs": [
    {
     "data": {
      "text/plain": [
       "'2012-01-04'"
      ]
     },
     "execution_count": 21,
     "metadata": {},
     "output_type": "execute_result"
    }
   ],
   "source": [
    "'-'.join('2012/01/04'.split('/'))"
   ]
  },
  {
   "cell_type": "code",
   "execution_count": 22,
   "id": "e0eeabd7",
   "metadata": {},
   "outputs": [
    {
     "data": {
      "text/plain": [
       "'2012-01-04'"
      ]
     },
     "execution_count": 22,
     "metadata": {},
     "output_type": "execute_result"
    }
   ],
   "source": [
    "'2012/01/04'.replace('/', '-')"
   ]
  },
  {
   "cell_type": "code",
   "execution_count": 28,
   "id": "ffc3db45",
   "metadata": {},
   "outputs": [
    {
     "data": {
      "text/plain": [
       "'145,145,145'"
      ]
     },
     "execution_count": 28,
     "metadata": {},
     "output_type": "execute_result"
    }
   ],
   "source": [
    "format(145145145,',')"
   ]
  },
  {
   "cell_type": "code",
   "execution_count": 29,
   "id": "19c615c3",
   "metadata": {},
   "outputs": [],
   "source": [
    "nums = [1,2,3,4,5]"
   ]
  },
  {
   "cell_type": "code",
   "execution_count": 33,
   "id": "03c8cc1c",
   "metadata": {},
   "outputs": [],
   "source": [
    "squares = [x**2 for x in nums]"
   ]
  },
  {
   "cell_type": "code",
   "execution_count": 34,
   "id": "c5a101ea",
   "metadata": {},
   "outputs": [
    {
     "data": {
      "text/plain": [
       "[1, 4, 9, 16, 25]"
      ]
     },
     "execution_count": 34,
     "metadata": {},
     "output_type": "execute_result"
    }
   ],
   "source": [
    "squares"
   ]
  },
  {
   "cell_type": "code",
   "execution_count": 39,
   "id": "a9e6e93a",
   "metadata": {},
   "outputs": [],
   "source": [
    "even_squares = [x**2 for x in nums if x % 2 == 0]"
   ]
  },
  {
   "cell_type": "code",
   "execution_count": 40,
   "id": "d33fc905",
   "metadata": {},
   "outputs": [
    {
     "name": "stdout",
     "output_type": "stream",
     "text": [
      "[4, 16]\n"
     ]
    }
   ],
   "source": [
    "print(even_squares)"
   ]
  },
  {
   "cell_type": "code",
   "execution_count": 38,
   "id": "e1394505",
   "metadata": {
    "scrolled": true
   },
   "outputs": [
    {
     "data": {
      "text/plain": [
       "4"
      ]
     },
     "execution_count": 38,
     "metadata": {},
     "output_type": "execute_result"
    }
   ],
   "source": [
    "2**2"
   ]
  },
  {
   "cell_type": "code",
   "execution_count": 41,
   "id": "170fac6b",
   "metadata": {},
   "outputs": [],
   "source": [
    "myFunction = [abs,max]"
   ]
  },
  {
   "cell_type": "code",
   "execution_count": 44,
   "id": "b2e75bd6",
   "metadata": {},
   "outputs": [
    {
     "data": {
      "text/plain": [
       "4"
      ]
     },
     "execution_count": 44,
     "metadata": {},
     "output_type": "execute_result"
    }
   ],
   "source": [
    "myFunction[1]([2,2,4])"
   ]
  },
  {
   "cell_type": "markdown",
   "id": "d276b959",
   "metadata": {},
   "source": [
    "list 안에 function 도 들어갈 수 있는 것이 신기하다."
   ]
  },
  {
   "cell_type": "code",
   "execution_count": 46,
   "id": "ce53fc6c",
   "metadata": {},
   "outputs": [],
   "source": [
    "myTuple = ('a', 'b', 'c', [10, 20, 30], abs, max)"
   ]
  },
  {
   "cell_type": "markdown",
   "id": "7225986e",
   "metadata": {},
   "source": [
    "Tuple 은 괄호로 정의한다. "
   ]
  },
  {
   "cell_type": "code",
   "execution_count": null,
   "id": "35919b8d",
   "metadata": {},
   "outputs": [],
   "source": []
  }
 ],
 "metadata": {
  "kernelspec": {
   "display_name": "firstEnv",
   "language": "python",
   "name": "firstenv"
  },
  "language_info": {
   "codemirror_mode": {
    "name": "ipython",
    "version": 3
   },
   "file_extension": ".py",
   "mimetype": "text/x-python",
   "name": "python",
   "nbconvert_exporter": "python",
   "pygments_lexer": "ipython3",
   "version": "3.8.8"
  }
 },
 "nbformat": 4,
 "nbformat_minor": 5
}

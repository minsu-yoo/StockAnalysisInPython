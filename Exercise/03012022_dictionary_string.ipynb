{
 "cells": [
  {
   "cell_type": "code",
   "execution_count": 1,
   "id": "679bae36",
   "metadata": {},
   "outputs": [],
   "source": [
    "crispr = {'EDIT': 'Editas Medicine', 'NTLA': 'Intellia Therapeutics'}"
   ]
  },
  {
   "cell_type": "code",
   "execution_count": 2,
   "id": "7001a20f",
   "metadata": {},
   "outputs": [
    {
     "data": {
      "text/plain": [
       "'Intellia Therapeutics'"
      ]
     },
     "execution_count": 2,
     "metadata": {},
     "output_type": "execute_result"
    }
   ],
   "source": [
    "crispr['NTLA']"
   ]
  },
  {
   "cell_type": "code",
   "execution_count": 3,
   "id": "e53d7227",
   "metadata": {},
   "outputs": [
    {
     "name": "stdout",
     "output_type": "stream",
     "text": [
      "EDIT : Editas Medicine\n",
      "NTLA : Intellia Therapeutics\n"
     ]
    }
   ],
   "source": [
    "for x in crispr:\n",
    "    print('%s : %s' %(x, crispr[x]))"
   ]
  },
  {
   "cell_type": "code",
   "execution_count": 8,
   "id": "79ce493b",
   "metadata": {},
   "outputs": [
    {
     "name": "stdout",
     "output_type": "stream",
     "text": [
      "NTLA : Intellia Therapeutics\n"
     ]
    }
   ],
   "source": [
    "print('%s : %s' %(x, crispr[x]))"
   ]
  },
  {
   "cell_type": "markdown",
   "id": "3ed5688e",
   "metadata": {},
   "source": [
    "{ } 를 써서 string 을 나타내는 것을 알아보자"
   ]
  },
  {
   "cell_type": "code",
   "execution_count": 13,
   "id": "07f72dca",
   "metadata": {},
   "outputs": [
    {
     "name": "stdout",
     "output_type": "stream",
     "text": [
      "EDIT : Editas Medicine\n",
      "NTLA : Intellia Therapeutics\n"
     ]
    }
   ],
   "source": [
    "for x in crispr:\n",
    "    print('{} : {}'.format(x, crispr[x]))"
   ]
  },
  {
   "cell_type": "code",
   "execution_count": null,
   "id": "90699ade",
   "metadata": {},
   "outputs": [],
   "source": []
  }
 ],
 "metadata": {
  "kernelspec": {
   "display_name": "firstEnv",
   "language": "python",
   "name": "firstenv"
  },
  "language_info": {
   "codemirror_mode": {
    "name": "ipython",
    "version": 3
   },
   "file_extension": ".py",
   "mimetype": "text/x-python",
   "name": "python",
   "nbconvert_exporter": "python",
   "pygments_lexer": "ipython3",
   "version": "3.8.8"
  }
 },
 "nbformat": 4,
 "nbformat_minor": 5
}

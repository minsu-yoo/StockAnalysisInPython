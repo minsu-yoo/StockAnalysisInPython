{
 "cells": [
  {
   "cell_type": "markdown",
   "id": "5a388064",
   "metadata": {},
   "source": [
    "## 중복없는 셋"
   ]
  },
  {
   "cell_type": "code",
   "execution_count": 1,
   "id": "c7737806",
   "metadata": {},
   "outputs": [],
   "source": [
    "s = {'A', 'P', 'P','L','E'}"
   ]
  },
  {
   "cell_type": "code",
   "execution_count": 2,
   "id": "1649f4af",
   "metadata": {},
   "outputs": [
    {
     "data": {
      "text/plain": [
       "{'A', 'E', 'L', 'P'}"
      ]
     },
     "execution_count": 2,
     "metadata": {},
     "output_type": "execute_result"
    }
   ],
   "source": [
    "s"
   ]
  },
  {
   "cell_type": "code",
   "execution_count": 4,
   "id": "a793efb3",
   "metadata": {},
   "outputs": [],
   "source": [
    "mySet = {'B', 6,1,2}"
   ]
  },
  {
   "cell_type": "code",
   "execution_count": 5,
   "id": "22f562da",
   "metadata": {},
   "outputs": [
    {
     "data": {
      "text/plain": [
       "{1, 2, 6, 'B'}"
      ]
     },
     "execution_count": 5,
     "metadata": {},
     "output_type": "execute_result"
    }
   ],
   "source": [
    "mySet"
   ]
  },
  {
   "cell_type": "markdown",
   "id": "95ae8f68",
   "metadata": {},
   "source": [
    "셋은 다른 반복 자료형보다 훨씬 빨리 원소의 존재 여부를 검사할 수 있다. "
   ]
  },
  {
   "cell_type": "code",
   "execution_count": 6,
   "id": "59e0c973",
   "metadata": {},
   "outputs": [
    {
     "name": "stdout",
     "output_type": "stream",
     "text": [
      "'B' exists in {1, 2, 'B', 6}\n"
     ]
    }
   ],
   "source": [
    "if 'B' in mySet:\n",
    "    print(\"'B' exists in\", mySet)"
   ]
  },
  {
   "cell_type": "code",
   "execution_count": 7,
   "id": "ce21b038",
   "metadata": {},
   "outputs": [
    {
     "name": "stdout",
     "output_type": "stream",
     "text": [
      "s includes {'E', 'P', 'A', 'L'}\n"
     ]
    }
   ],
   "source": [
    "print('s includes', s)"
   ]
  },
  {
   "cell_type": "markdown",
   "id": "4a266269",
   "metadata": {},
   "source": [
    "셋의 원소들은 인덱싱이 불가능한 대신, 원소들의 교집합, 합집합, 차집합을 구할 수 있다. "
   ]
  },
  {
   "cell_type": "code",
   "execution_count": 9,
   "id": "dcc6d029",
   "metadata": {},
   "outputs": [],
   "source": [
    "setA = {1, 2, 3, 4, 5}\n",
    "setB = {3, 4, 5, 6, 7}"
   ]
  },
  {
   "cell_type": "code",
   "execution_count": 10,
   "id": "f143d55c",
   "metadata": {},
   "outputs": [
    {
     "data": {
      "text/plain": [
       "{3, 4, 5}"
      ]
     },
     "execution_count": 10,
     "metadata": {},
     "output_type": "execute_result"
    }
   ],
   "source": [
    "setA & setB"
   ]
  },
  {
   "cell_type": "code",
   "execution_count": 11,
   "id": "c60b9974",
   "metadata": {},
   "outputs": [
    {
     "data": {
      "text/plain": [
       "{1, 2, 3, 4, 5, 6, 7}"
      ]
     },
     "execution_count": 11,
     "metadata": {},
     "output_type": "execute_result"
    }
   ],
   "source": [
    "setA | setB"
   ]
  },
  {
   "cell_type": "markdown",
   "id": "adf88de5",
   "metadata": {},
   "source": [
    "빈 셋은 s = set()"
   ]
  },
  {
   "cell_type": "code",
   "execution_count": null,
   "id": "6e1a905f",
   "metadata": {},
   "outputs": [],
   "source": [
    "ls = [] # ls = list() 와 같은결과\n",
    "d = {} # d = dict()\n",
    "t = () # t = tuple ()\n",
    "s = set() "
   ]
  },
  {
   "cell_type": "markdown",
   "id": "46f4ccd7",
   "metadata": {},
   "source": [
    "중복이 없는 셋을 만들려면 리스트를 셋에 넣으면 된다."
   ]
  },
  {
   "cell_type": "code",
   "execution_count": 14,
   "id": "5dd40357",
   "metadata": {},
   "outputs": [
    {
     "data": {
      "text/plain": [
       "[1, 2, 3, 4, 5]"
      ]
     },
     "execution_count": 14,
     "metadata": {},
     "output_type": "execute_result"
    }
   ],
   "source": [
    "ls = [1, 3, 5, 2, 2, 3, 4, 2, 1, 1, 1, 5]\n",
    "list(set(ls))"
   ]
  },
  {
   "cell_type": "markdown",
   "id": "00dc8aa0",
   "metadata": {},
   "source": [
    "### dir 함수"
   ]
  },
  {
   "cell_type": "code",
   "execution_count": 16,
   "id": "9447ece3",
   "metadata": {},
   "outputs": [
    {
     "data": {
      "text/plain": [
       "str"
      ]
     },
     "execution_count": 16,
     "metadata": {},
     "output_type": "execute_result"
    }
   ],
   "source": [
    "s = 'string'\n",
    "\n",
    "type(s)"
   ]
  },
  {
   "cell_type": "code",
   "execution_count": 17,
   "id": "47fba8c3",
   "metadata": {},
   "outputs": [
    {
     "data": {
      "text/plain": [
       "['__add__',\n",
       " '__class__',\n",
       " '__contains__',\n",
       " '__delattr__',\n",
       " '__dir__',\n",
       " '__doc__',\n",
       " '__eq__',\n",
       " '__format__',\n",
       " '__ge__',\n",
       " '__getattribute__',\n",
       " '__getitem__',\n",
       " '__getnewargs__',\n",
       " '__gt__',\n",
       " '__hash__',\n",
       " '__init__',\n",
       " '__init_subclass__',\n",
       " '__iter__',\n",
       " '__le__',\n",
       " '__len__',\n",
       " '__lt__',\n",
       " '__mod__',\n",
       " '__mul__',\n",
       " '__ne__',\n",
       " '__new__',\n",
       " '__reduce__',\n",
       " '__reduce_ex__',\n",
       " '__repr__',\n",
       " '__rmod__',\n",
       " '__rmul__',\n",
       " '__setattr__',\n",
       " '__sizeof__',\n",
       " '__str__',\n",
       " '__subclasshook__',\n",
       " 'capitalize',\n",
       " 'casefold',\n",
       " 'center',\n",
       " 'count',\n",
       " 'encode',\n",
       " 'endswith',\n",
       " 'expandtabs',\n",
       " 'find',\n",
       " 'format',\n",
       " 'format_map',\n",
       " 'index',\n",
       " 'isalnum',\n",
       " 'isalpha',\n",
       " 'isascii',\n",
       " 'isdecimal',\n",
       " 'isdigit',\n",
       " 'isidentifier',\n",
       " 'islower',\n",
       " 'isnumeric',\n",
       " 'isprintable',\n",
       " 'isspace',\n",
       " 'istitle',\n",
       " 'isupper',\n",
       " 'join',\n",
       " 'ljust',\n",
       " 'lower',\n",
       " 'lstrip',\n",
       " 'maketrans',\n",
       " 'partition',\n",
       " 'replace',\n",
       " 'rfind',\n",
       " 'rindex',\n",
       " 'rjust',\n",
       " 'rpartition',\n",
       " 'rsplit',\n",
       " 'rstrip',\n",
       " 'split',\n",
       " 'splitlines',\n",
       " 'startswith',\n",
       " 'strip',\n",
       " 'swapcase',\n",
       " 'title',\n",
       " 'translate',\n",
       " 'upper',\n",
       " 'zfill']"
      ]
     },
     "execution_count": 17,
     "metadata": {},
     "output_type": "execute_result"
    }
   ],
   "source": [
    "dir(s)"
   ]
  },
  {
   "cell_type": "code",
   "execution_count": 4,
   "id": "4573063c",
   "metadata": {},
   "outputs": [],
   "source": [
    "def matmeal(num):\n",
    "    price = 3000*num\n",
    "    tax = 300*num\n",
    "    real_price = price + tax\n",
    "    print('{:,d}'.format(real_price))"
   ]
  },
  {
   "cell_type": "code",
   "execution_count": 5,
   "id": "ff49eafd",
   "metadata": {},
   "outputs": [
    {
     "name": "stdout",
     "output_type": "stream",
     "text": [
      "16,500,000\n"
     ]
    }
   ],
   "source": [
    "matmeal(5000)"
   ]
  },
  {
   "cell_type": "code",
   "execution_count": null,
   "id": "8bccdc8c",
   "metadata": {},
   "outputs": [],
   "source": []
  }
 ],
 "metadata": {
  "kernelspec": {
   "display_name": "firstEnv",
   "language": "python",
   "name": "firstenv"
  },
  "language_info": {
   "codemirror_mode": {
    "name": "ipython",
    "version": 3
   },
   "file_extension": ".py",
   "mimetype": "text/x-python",
   "name": "python",
   "nbconvert_exporter": "python",
   "pygments_lexer": "ipython3",
   "version": "3.8.8"
  }
 },
 "nbformat": 4,
 "nbformat_minor": 5
}
